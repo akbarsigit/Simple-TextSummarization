{
  "nbformat": 4,
  "nbformat_minor": 0,
  "metadata": {
    "colab": {
      "provenance": []
    },
    "kernelspec": {
      "name": "python3",
      "display_name": "Python 3"
    },
    "language_info": {
      "name": "python"
    }
  },
  "cells": [
    {
      "cell_type": "markdown",
      "source": [
        "## Importing Library"
      ],
      "metadata": {
        "id": "-ua5MjUq4yJe"
      }
    },
    {
      "cell_type": "code",
      "source": [
        "import re\n",
        "import nltk\n",
        "nltk.download('punkt')\n",
        "nltk.download('stopwords')\n",
        "import operator"
      ],
      "metadata": {
        "colab": {
          "base_uri": "https://localhost:8080/"
        },
        "id": "EUyBiNE04Xbd",
        "outputId": "94a409ea-fdb2-4f64-9f15-c4b217c9c31a"
      },
      "execution_count": null,
      "outputs": [
        {
          "output_type": "stream",
          "name": "stderr",
          "text": [
            "[nltk_data] Downloading package punkt to /root/nltk_data...\n",
            "[nltk_data]   Unzipping tokenizers/punkt.zip.\n",
            "[nltk_data] Downloading package stopwords to /root/nltk_data...\n",
            "[nltk_data]   Unzipping corpora/stopwords.zip.\n"
          ]
        }
      ]
    },
    {
      "cell_type": "markdown",
      "source": [
        "## Dataset\n",
        "\n"
      ],
      "metadata": {
        "id": "7XUuvSZ84796"
      }
    },
    {
      "cell_type": "markdown",
      "source": [
        "Text berasa dari: \n",
        "https://theconversation.com/four-ways-to-tell-if-your-cat-loves-you-based-on-science-188170"
      ],
      "metadata": {
        "id": "mOn_a_dDb1rE"
      }
    },
    {
      "cell_type": "code",
      "source": [
        "# article_text = \"Cats purr because they have something to say, which roughly translated is “please keep still and pay attention to me.” Kittens purr to persuade their mothers to keep on nursing them, and pet cats purr when they want to be stroked. The vibrations emanating from the purr certainly have a calming effect on people. Yet sick cats will also purr as a cry for help. So purring doesn’t always mean “I’m happy.” Some researchers have claimed that the vibrations from purring might help heal bone damage in an injured cat.\"\n",
        "# article_text = \"The cat (Felis catus) is a domestic species of small carnivorous mammal. It is the only domesticated species in the family Felidae and is commonly referred to as the domestic cat or house cat to distinguish it from the wild members of the family.Cats are commonly kept as house pets, but can also be farm cats or feral cats; the feral cat ranges freely and avoids human contact.Domestic cats are valued by humans for companionship and their ability to kill rodents. About 60 cat breeds are recognized by various cat registries.The cat is similar in anatomy to the other felid species: it has a strong flexible body, quick reflexes, sharp teeth, and retractable claws adapted to killing small prey. Its night vision and sense of smell are well developed. Cat communication includes vocalizations like meowing, purring, trilling, hissing, growling, and grunting as well as cat-specific body language. A predator that is most active at dawn and dusk (crepuscular), the cat is a solitary hunter but a social species. It can hear sounds too faint or too high in frequency for human ears, such as those made by mice and other small mammals.Cats also secrete and perceive pheromones.Female domestic cats can have kittens from spring to late autumn, with litter sizes often ranging from two to five kittens.Domestic cats are bred and shown at events as registered pedigreed cats, a hobby known as cat fancy. Population control of cats may be effected by spaying and neutering, but their proliferation and the abandonment of pets has resulted in large numbers of feral cats worldwide, contributing to the extinction of entire bird, mammal, and reptile species.It was long thought that cat domestication began in ancient Egypt, where cats were venerated from around 3100 BC, but recent advances in archaeology and genetics have shown that their domestication occurred in Western Asia around 7500 BC.As of 2021, there were an estimated 220 million owned and 480 million stray cats in the world.As of 2017, the domestic cat was the second most popular pet in the United States, with 95.6 million cats ownedand around 42 million households own at least one cat. In the United Kingdom, 26% of adults have a cat, with an estimated population of 10.9 million pet cats as of 2020.\"\n",
        "\n",
        "# article_text = \"The domestic cat, or house cat, is a small mammal that has lived among people for thousands of years. People have kept cats as pets, used them as hunters, and even worshipped them as gods. Domestic cats belong to the same animal family as the lion, tiger, jaguar, leopard, puma, and cheetah. The scientific name of the domestic cat is Felis catus.Domestic cats live with people in nearly every part of the world. Some domestic cats have no home. These cats, called feral cats, wander freely in many cities.\"\n",
        "\n",
        "# article_text = \"There are two kinds of people in this world; people who love cats and people who think the entire feline population is plotting against them. While dogs are man's best friend, cats often seem to be your aloof pal who sits in the corner, silently judging you. But the problem might not be them; it could be us. Scientific research is revealing more and more about the species that casts it in a much better light than we previously thought. So if you're a feline denier, this piece may change your mind. If you're already super into cats, your heart is about to explode.\"\n",
        "article_text = \"Even the most devoted cat owners wonder at some point, perhaps waking up in a cold sweat in the middle of the night, whether their cat really loves them. Dog people like to smugly point out dogs’ long history as humankind’s best friend. But research shows cats’ reputation as a cold and aloof pet is undeserved. Because of their evolutionary ancestry, domestic cats are, by their nature, more independent than dogs. The wild ancestors of our cats didn’t live in social groups as canines do. However, during the process of domestication, cats developed the ability to form social relationships not just with other cats, but also with people. While they may not rely upon people to feel safe as dogs do, many cats show affection towards their guardians and seem to highly value the company of their human companions. Their attachment to humans is partly influenced by their experiences of being handled by people as a kitten. Cats behave towards humans in the same way that they respond to their feline friends, so the secret of whether your cat feels bonded to you lies in their behaviour.\"\n",
        "# article_text = \"If you’re wondering why your cat purrs when she’s stroked, it’s likely because she’s feeling relaxed. If she purrs when she’s being held or around a stranger, she could be feeling anxious. Cats may even purr to help themselves rest or repair injuries. This is why your cat may purr when giving birth or in distress. If you notice a change in your cat’s behavior combined with unusual purring, this could be a sign that your cat is in pain and should see a veterinarian. A high-pitched mixture of purring and meowing is what experts call a “solicitation purr.” It likely means she wants attention or food. “Studies have demonstrated the ‘solicitation purr’ is most used by adult cats and directed toward humans to solicit food,” says Dr. Annie Valuska, Ph.D. “This purr has a high frequency voiced component within it that human participants consistently judged as more urgent and less pleasant than a ‘normal’ purr. “The frequencies of this ‘voiced peak’ correspond to those of human infant distress cries, which could explain why they are so easily perceived by humans as urgent.” You may hear your cat use this particular purr to communicate she’s ready for her next meal.\"\n",
        "article_text"
      ],
      "metadata": {
        "id": "PZ6W_CSNA12d",
        "colab": {
          "base_uri": "https://localhost:8080/",
          "height": 123
        },
        "outputId": "795e4366-0f3a-46c4-a8c4-59b287bf5ba4"
      },
      "execution_count": null,
      "outputs": [
        {
          "output_type": "execute_result",
          "data": {
            "text/plain": [
              "'Even the most devoted cat owners wonder at some point, perhaps waking up in a cold sweat in the middle of the night, whether their cat really loves them. Dog people like to smugly point out dogs’ long history as humankind’s best friend. But research shows cats’ reputation as a cold and aloof pet is undeserved. Because of their evolutionary ancestry, domestic cats are, by their nature, more independent than dogs. The wild ancestors of our cats didn’t live in social groups as canines do. However, during the process of domestication, cats developed the ability to form social relationships not just with other cats, but also with people. While they may not rely upon people to feel safe as dogs do, many cats show affection towards their guardians and seem to highly value the company of their human companions. Their attachment to humans is partly influenced by their experiences of being handled by people as a kitten. Cats behave towards humans in the same way that they respond to their feline friends, so the secret of whether your cat feels bonded to you lies in their behaviour.'"
            ],
            "application/vnd.google.colaboratory.intrinsic+json": {
              "type": "string"
            }
          },
          "metadata": {},
          "execution_count": 2
        }
      ]
    },
    {
      "cell_type": "markdown",
      "source": [
        "## Cleaning"
      ],
      "metadata": {
        "id": "TZy4M6cU5D-0"
      }
    },
    {
      "cell_type": "markdown",
      "source": [],
      "metadata": {
        "id": "ePpLXT3t9JpD"
      }
    },
    {
      "cell_type": "code",
      "source": [
        "article_text = re.sub(r'\\[[0-9]*\\]', ' ', article_text)  \n",
        "article_text = re.sub(r'\\s+', ' ', article_text) \n",
        "article_text = re.sub(\"’\\\"\", '', article_text) \n",
        "\n",
        "process_article_text = re.sub('[^a-zA-Z]', ' ', article_text )  \n",
        "process_article_text = re.sub(r'\\s+', ' ', process_article_text)\n",
        "process_article_text = process_article_text.lower()\n",
        "process_article_text"
      ],
      "metadata": {
        "id": "11QkpVRm4hMk",
        "colab": {
          "base_uri": "https://localhost:8080/",
          "height": 123
        },
        "outputId": "30bb557d-45fa-4b72-ef53-442d09be6b59"
      },
      "execution_count": null,
      "outputs": [
        {
          "output_type": "execute_result",
          "data": {
            "text/plain": [
              "'even the most devoted cat owners wonder at some point perhaps waking up in a cold sweat in the middle of the night whether their cat really loves them dog people like to smugly point out dogs long history as humankind s best friend but research shows cats reputation as a cold and aloof pet is undeserved because of their evolutionary ancestry domestic cats are by their nature more independent than dogs the wild ancestors of our cats didn t live in social groups as canines do however during the process of domestication cats developed the ability to form social relationships not just with other cats but also with people while they may not rely upon people to feel safe as dogs do many cats show affection towards their guardians and seem to highly value the company of their human companions their attachment to humans is partly influenced by their experiences of being handled by people as a kitten cats behave towards humans in the same way that they respond to their feline friends so the secret of whether your cat feels bonded to you lies in their behaviour '"
            ],
            "application/vnd.google.colaboratory.intrinsic+json": {
              "type": "string"
            }
          },
          "metadata": {},
          "execution_count": 3
        }
      ]
    },
    {
      "cell_type": "markdown",
      "source": [
        "## Tokenizing and remove stopword"
      ],
      "metadata": {
        "id": "JYS_YS_j5LUI"
      }
    },
    {
      "cell_type": "code",
      "source": [
        "stopwords = nltk.corpus.stopwords.words('english')\n",
        "\n",
        "filtered_sentence = [w for w in nltk.word_tokenize(process_article_text) if not w in stopwords]\n",
        "filtered_sentence = ' '.join(filtered_sentence)\n",
        "filtered_sentence"
      ],
      "metadata": {
        "colab": {
          "base_uri": "https://localhost:8080/",
          "height": 88
        },
        "id": "ql0kpbwvAjVE",
        "outputId": "d1ca07c0-c8a3-488a-b17a-6deb821d2498"
      },
      "execution_count": null,
      "outputs": [
        {
          "output_type": "execute_result",
          "data": {
            "text/plain": [
              "'even devoted cat owners wonder point perhaps waking cold sweat middle night whether cat really loves dog people like smugly point dogs long history humankind best friend research shows cats reputation cold aloof pet undeserved evolutionary ancestry domestic cats nature independent dogs wild ancestors cats live social groups canines however process domestication cats developed ability form social relationships cats also people may rely upon people feel safe dogs many cats show affection towards guardians seem highly value company human companions attachment humans partly influenced experiences handled people kitten cats behave towards humans way respond feline friends secret whether cat feels bonded lies behaviour'"
            ],
            "application/vnd.google.colaboratory.intrinsic+json": {
              "type": "string"
            }
          },
          "metadata": {},
          "execution_count": 4
        }
      ]
    },
    {
      "cell_type": "code",
      "source": [
        "word_list = nltk.word_tokenize(filtered_sentence)\n",
        "word_list"
      ],
      "metadata": {
        "colab": {
          "base_uri": "https://localhost:8080/"
        },
        "id": "ON6djJI1CGZt",
        "outputId": "5f6f962c-d168-4b8d-fc45-5ca8e048a1fd"
      },
      "execution_count": null,
      "outputs": [
        {
          "output_type": "execute_result",
          "data": {
            "text/plain": [
              "['even',\n",
              " 'devoted',\n",
              " 'cat',\n",
              " 'owners',\n",
              " 'wonder',\n",
              " 'point',\n",
              " 'perhaps',\n",
              " 'waking',\n",
              " 'cold',\n",
              " 'sweat',\n",
              " 'middle',\n",
              " 'night',\n",
              " 'whether',\n",
              " 'cat',\n",
              " 'really',\n",
              " 'loves',\n",
              " 'dog',\n",
              " 'people',\n",
              " 'like',\n",
              " 'smugly',\n",
              " 'point',\n",
              " 'dogs',\n",
              " 'long',\n",
              " 'history',\n",
              " 'humankind',\n",
              " 'best',\n",
              " 'friend',\n",
              " 'research',\n",
              " 'shows',\n",
              " 'cats',\n",
              " 'reputation',\n",
              " 'cold',\n",
              " 'aloof',\n",
              " 'pet',\n",
              " 'undeserved',\n",
              " 'evolutionary',\n",
              " 'ancestry',\n",
              " 'domestic',\n",
              " 'cats',\n",
              " 'nature',\n",
              " 'independent',\n",
              " 'dogs',\n",
              " 'wild',\n",
              " 'ancestors',\n",
              " 'cats',\n",
              " 'live',\n",
              " 'social',\n",
              " 'groups',\n",
              " 'canines',\n",
              " 'however',\n",
              " 'process',\n",
              " 'domestication',\n",
              " 'cats',\n",
              " 'developed',\n",
              " 'ability',\n",
              " 'form',\n",
              " 'social',\n",
              " 'relationships',\n",
              " 'cats',\n",
              " 'also',\n",
              " 'people',\n",
              " 'may',\n",
              " 'rely',\n",
              " 'upon',\n",
              " 'people',\n",
              " 'feel',\n",
              " 'safe',\n",
              " 'dogs',\n",
              " 'many',\n",
              " 'cats',\n",
              " 'show',\n",
              " 'affection',\n",
              " 'towards',\n",
              " 'guardians',\n",
              " 'seem',\n",
              " 'highly',\n",
              " 'value',\n",
              " 'company',\n",
              " 'human',\n",
              " 'companions',\n",
              " 'attachment',\n",
              " 'humans',\n",
              " 'partly',\n",
              " 'influenced',\n",
              " 'experiences',\n",
              " 'handled',\n",
              " 'people',\n",
              " 'kitten',\n",
              " 'cats',\n",
              " 'behave',\n",
              " 'towards',\n",
              " 'humans',\n",
              " 'way',\n",
              " 'respond',\n",
              " 'feline',\n",
              " 'friends',\n",
              " 'secret',\n",
              " 'whether',\n",
              " 'cat',\n",
              " 'feels',\n",
              " 'bonded',\n",
              " 'lies',\n",
              " 'behaviour']"
            ]
          },
          "metadata": {},
          "execution_count": 5
        }
      ]
    },
    {
      "cell_type": "markdown",
      "source": [
        "## Calculating word frequencies"
      ],
      "metadata": {
        "id": "-IIjrO935UJa"
      }
    },
    {
      "cell_type": "code",
      "source": [
        "word_frequencies = {}  \n",
        "for word in word_list:\n",
        "      if word not in word_frequencies.keys():\n",
        "          word_frequencies[word] = 1\n",
        "      else:\n",
        "          word_frequencies[word] += 1\n",
        "\n",
        "print(\"Word Frequencies\")\n",
        "print(sorted(word_frequencies.items(),key=operator.itemgetter(1), reverse=1))\n",
        "\n",
        "#Calcuate weighted word frequency\n",
        "maximum_frequncy = max(word_frequencies.values())\n",
        "for word in word_frequencies.keys():  \n",
        "    word_frequencies[word] = round((word_frequencies[word]/maximum_frequncy),3)\n",
        "\n",
        "print(\"Weighted Word Frequencies\")\n",
        "print(sorted(word_frequencies.items(),key=operator.itemgetter(1), reverse=1))"
      ],
      "metadata": {
        "colab": {
          "base_uri": "https://localhost:8080/"
        },
        "id": "7P8NB_K94oSp",
        "outputId": "fda5333e-0454-4725-aa39-a5cd5cb2e382"
      },
      "execution_count": null,
      "outputs": [
        {
          "output_type": "stream",
          "name": "stdout",
          "text": [
            "Word Frequencies\n",
            "[('cats', 7), ('people', 4), ('cat', 3), ('dogs', 3), ('point', 2), ('cold', 2), ('whether', 2), ('social', 2), ('towards', 2), ('humans', 2), ('even', 1), ('devoted', 1), ('owners', 1), ('wonder', 1), ('perhaps', 1), ('waking', 1), ('sweat', 1), ('middle', 1), ('night', 1), ('really', 1), ('loves', 1), ('dog', 1), ('like', 1), ('smugly', 1), ('long', 1), ('history', 1), ('humankind', 1), ('best', 1), ('friend', 1), ('research', 1), ('shows', 1), ('reputation', 1), ('aloof', 1), ('pet', 1), ('undeserved', 1), ('evolutionary', 1), ('ancestry', 1), ('domestic', 1), ('nature', 1), ('independent', 1), ('wild', 1), ('ancestors', 1), ('live', 1), ('groups', 1), ('canines', 1), ('however', 1), ('process', 1), ('domestication', 1), ('developed', 1), ('ability', 1), ('form', 1), ('relationships', 1), ('also', 1), ('may', 1), ('rely', 1), ('upon', 1), ('feel', 1), ('safe', 1), ('many', 1), ('show', 1), ('affection', 1), ('guardians', 1), ('seem', 1), ('highly', 1), ('value', 1), ('company', 1), ('human', 1), ('companions', 1), ('attachment', 1), ('partly', 1), ('influenced', 1), ('experiences', 1), ('handled', 1), ('kitten', 1), ('behave', 1), ('way', 1), ('respond', 1), ('feline', 1), ('friends', 1), ('secret', 1), ('feels', 1), ('bonded', 1), ('lies', 1), ('behaviour', 1)]\n",
            "Weighted Word Frequencies\n",
            "[('cats', 1.0), ('people', 0.571), ('cat', 0.429), ('dogs', 0.429), ('point', 0.286), ('cold', 0.286), ('whether', 0.286), ('social', 0.286), ('towards', 0.286), ('humans', 0.286), ('even', 0.143), ('devoted', 0.143), ('owners', 0.143), ('wonder', 0.143), ('perhaps', 0.143), ('waking', 0.143), ('sweat', 0.143), ('middle', 0.143), ('night', 0.143), ('really', 0.143), ('loves', 0.143), ('dog', 0.143), ('like', 0.143), ('smugly', 0.143), ('long', 0.143), ('history', 0.143), ('humankind', 0.143), ('best', 0.143), ('friend', 0.143), ('research', 0.143), ('shows', 0.143), ('reputation', 0.143), ('aloof', 0.143), ('pet', 0.143), ('undeserved', 0.143), ('evolutionary', 0.143), ('ancestry', 0.143), ('domestic', 0.143), ('nature', 0.143), ('independent', 0.143), ('wild', 0.143), ('ancestors', 0.143), ('live', 0.143), ('groups', 0.143), ('canines', 0.143), ('however', 0.143), ('process', 0.143), ('domestication', 0.143), ('developed', 0.143), ('ability', 0.143), ('form', 0.143), ('relationships', 0.143), ('also', 0.143), ('may', 0.143), ('rely', 0.143), ('upon', 0.143), ('feel', 0.143), ('safe', 0.143), ('many', 0.143), ('show', 0.143), ('affection', 0.143), ('guardians', 0.143), ('seem', 0.143), ('highly', 0.143), ('value', 0.143), ('company', 0.143), ('human', 0.143), ('companions', 0.143), ('attachment', 0.143), ('partly', 0.143), ('influenced', 0.143), ('experiences', 0.143), ('handled', 0.143), ('kitten', 0.143), ('behave', 0.143), ('way', 0.143), ('respond', 0.143), ('feline', 0.143), ('friends', 0.143), ('secret', 0.143), ('feels', 0.143), ('bonded', 0.143), ('lies', 0.143), ('behaviour', 0.143)]\n"
          ]
        }
      ]
    },
    {
      "cell_type": "markdown",
      "source": [
        "## Calculating sentence score"
      ],
      "metadata": {
        "id": "a5fhQjh15awm"
      }
    },
    {
      "cell_type": "code",
      "source": [
        "sentence_list = nltk.sent_tokenize(article_text.lower())  \n",
        "sentence_list"
      ],
      "metadata": {
        "colab": {
          "base_uri": "https://localhost:8080/"
        },
        "id": "7-PSCdwlDF1t",
        "outputId": "cf9a874f-b740-4451-d290-0978f19d70be"
      },
      "execution_count": null,
      "outputs": [
        {
          "output_type": "execute_result",
          "data": {
            "text/plain": [
              "['even the most devoted cat owners wonder at some point, perhaps waking up in a cold sweat in the middle of the night, whether their cat really loves them.',\n",
              " 'dog people like to smugly point out dogs’ long history as humankind’s best friend.',\n",
              " 'but research shows cats’ reputation as a cold and aloof pet is undeserved.',\n",
              " 'because of their evolutionary ancestry, domestic cats are, by their nature, more independent than dogs.',\n",
              " 'the wild ancestors of our cats didn’t live in social groups as canines do.',\n",
              " 'however, during the process of domestication, cats developed the ability to form social relationships not just with other cats, but also with people.',\n",
              " 'while they may not rely upon people to feel safe as dogs do, many cats show affection towards their guardians and seem to highly value the company of their human companions.',\n",
              " 'their attachment to humans is partly influenced by their experiences of being handled by people as a kitten.',\n",
              " 'cats behave towards humans in the same way that they respond to their feline friends, so the secret of whether your cat feels bonded to you lies in their behaviour.']"
            ]
          },
          "metadata": {},
          "execution_count": 7
        }
      ]
    },
    {
      "cell_type": "code",
      "execution_count": null,
      "metadata": {
        "colab": {
          "base_uri": "https://localhost:8080/"
        },
        "id": "c_vANAxU2qV8",
        "outputId": "8ebff98c-93e2-4c99-c4b7-42bfbae75798"
      },
      "outputs": [
        {
          "output_type": "stream",
          "name": "stdout",
          "text": [
            "{'even the most devoted cat owners wonder at some point, perhaps waking up in a cold sweat in the middle of the night, whether their cat really loves them.': 3.288999999999999, 'dog people like to smugly point out dogs’ long history as humankind’s best friend.': 2.4299999999999993, 'but research shows cats’ reputation as a cold and aloof pet is undeserved.': 2.1439999999999997, 'because of their evolutionary ancestry, domestic cats are, by their nature, more independent than dogs.': 2.1439999999999997, 'the wild ancestors of our cats didn’t live in social groups as canines do.': 2.001, 'however, during the process of domestication, cats developed the ability to form social relationships not just with other cats, but also with people.': 4.0009999999999994, 'while they may not rely upon people to feel safe as dogs do, many cats show affection towards their guardians and seem to highly value the company of their human companions.': 4.430999999999998, 'their attachment to humans is partly influenced by their experiences of being handled by people as a kitten.': 1.7149999999999999, 'cats behave towards humans in the same way that they respond to their feline friends, so the secret of whether your cat feels bonded to you lies in their behaviour.': 3.7169999999999983}\n"
          ]
        }
      ],
      "source": [
        "sentence_scores = {}  \n",
        "for sent in sentence_list:\n",
        "  if len(sent.split(' ')) < 35:  \n",
        "    for word in nltk.word_tokenize(sent.lower()):\n",
        "        if word in word_frequencies.keys():\n",
        "            if sent not in sentence_scores.keys():\n",
        "                sentence_scores[sent] = word_frequencies[word]\n",
        "            else:\n",
        "                sentence_scores[sent] += word_frequencies[word]\n",
        "                \n",
        "print(sentence_scores)"
      ]
    },
    {
      "cell_type": "code",
      "source": [
        "sorted_sentence_socre = sorted(sentence_scores.items(), key=operator.itemgetter(1), reverse=1)\n",
        "for sent_score in sorted_sentence_socre:\n",
        "    print('{}-->{}'.format(sent_score[0],sent_score[1]))"
      ],
      "metadata": {
        "colab": {
          "base_uri": "https://localhost:8080/"
        },
        "id": "N96fFpSHYx9l",
        "outputId": "16f061bf-191d-47ea-b088-478362e4a475"
      },
      "execution_count": null,
      "outputs": [
        {
          "output_type": "stream",
          "name": "stdout",
          "text": [
            "while they may not rely upon people to feel safe as dogs do, many cats show affection towards their guardians and seem to highly value the company of their human companions.-->4.430999999999998\n",
            "however, during the process of domestication, cats developed the ability to form social relationships not just with other cats, but also with people.-->4.0009999999999994\n",
            "cats behave towards humans in the same way that they respond to their feline friends, so the secret of whether your cat feels bonded to you lies in their behaviour.-->3.7169999999999983\n",
            "even the most devoted cat owners wonder at some point, perhaps waking up in a cold sweat in the middle of the night, whether their cat really loves them.-->3.288999999999999\n",
            "dog people like to smugly point out dogs’ long history as humankind’s best friend.-->2.4299999999999993\n",
            "but research shows cats’ reputation as a cold and aloof pet is undeserved.-->2.1439999999999997\n",
            "because of their evolutionary ancestry, domestic cats are, by their nature, more independent than dogs.-->2.1439999999999997\n",
            "the wild ancestors of our cats didn’t live in social groups as canines do.-->2.001\n",
            "their attachment to humans is partly influenced by their experiences of being handled by people as a kitten.-->1.7149999999999999\n"
          ]
        }
      ]
    },
    {
      "cell_type": "markdown",
      "source": [
        "## Summary Result"
      ],
      "metadata": {
        "id": "hCYwhgpW5fpU"
      }
    },
    {
      "cell_type": "code",
      "source": [
        "sent_num = 2\n",
        "summary = \"\"\n",
        "for sent_score in sorted_sentence_socre[0:sent_num]:\n",
        "    summary += sent_score[0]"
      ],
      "metadata": {
        "id": "myWHSBxj5tEa"
      },
      "execution_count": null,
      "outputs": []
    },
    {
      "cell_type": "code",
      "source": [
        "print(\"=================================Article==============================\")\n",
        "article_text"
      ],
      "metadata": {
        "colab": {
          "base_uri": "https://localhost:8080/",
          "height": 140
        },
        "id": "puDV8ZSYbqD-",
        "outputId": "9fabbd8d-6b2f-485e-eb1f-86e00f43acec"
      },
      "execution_count": null,
      "outputs": [
        {
          "output_type": "stream",
          "name": "stdout",
          "text": [
            "=================================Article==============================\n"
          ]
        },
        {
          "output_type": "execute_result",
          "data": {
            "text/plain": [
              "'Even the most devoted cat owners wonder at some point, perhaps waking up in a cold sweat in the middle of the night, whether their cat really loves them. Dog people like to smugly point out dogs’ long history as humankind’s best friend. But research shows cats’ reputation as a cold and aloof pet is undeserved. Because of their evolutionary ancestry, domestic cats are, by their nature, more independent than dogs. The wild ancestors of our cats didn’t live in social groups as canines do. However, during the process of domestication, cats developed the ability to form social relationships not just with other cats, but also with people. While they may not rely upon people to feel safe as dogs do, many cats show affection towards their guardians and seem to highly value the company of their human companions. Their attachment to humans is partly influenced by their experiences of being handled by people as a kitten. Cats behave towards humans in the same way that they respond to their feline friends, so the secret of whether your cat feels bonded to you lies in their behaviour.'"
            ],
            "application/vnd.google.colaboratory.intrinsic+json": {
              "type": "string"
            }
          },
          "metadata": {},
          "execution_count": 16
        }
      ]
    },
    {
      "cell_type": "code",
      "source": [
        "print(\"=================================SUMMARY==============================\")\n",
        "summary"
      ],
      "metadata": {
        "colab": {
          "base_uri": "https://localhost:8080/",
          "height": 70
        },
        "id": "2IhVScL5vVQH",
        "outputId": "a12d3f1d-1740-4c36-f3df-3574adb5c76e"
      },
      "execution_count": null,
      "outputs": [
        {
          "output_type": "stream",
          "name": "stdout",
          "text": [
            "=================================SUMMARY==============================\n"
          ]
        },
        {
          "output_type": "execute_result",
          "data": {
            "text/plain": [
              "'while they may not rely upon people to feel safe as dogs do, many cats show affection towards their guardians and seem to highly value the company of their human companions.however, during the process of domestication, cats developed the ability to form social relationships not just with other cats, but also with people.'"
            ],
            "application/vnd.google.colaboratory.intrinsic+json": {
              "type": "string"
            }
          },
          "metadata": {},
          "execution_count": 17
        }
      ]
    },
    {
      "cell_type": "code",
      "source": [],
      "metadata": {
        "id": "qqUDJbI5cQy4"
      },
      "execution_count": null,
      "outputs": []
    }
  ]
}